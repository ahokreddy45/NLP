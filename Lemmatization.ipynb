{
 "cells": [
  {
   "cell_type": "code",
   "execution_count": 16,
   "id": "0fbdb206-2d79-4b13-b726-6bf8924a6226",
   "metadata": {},
   "outputs": [],
   "source": [
    "import nltk\n",
    "nltk.download('wordnet')\n",
    "from nltk.stem import WordNetLemmatizer"
   ]
  },
  {
   "cell_type": "code",
   "execution_count": 2,
   "id": "06c7bf33-5feb-4312-accb-d7774ac3f2f6",
   "metadata": {},
   "outputs": [],
   "source": [
    "words = [\"Run\", \"Running\", \"Ran\", \"Runs\", \n",
    "         \"Play\", \"Playing\", \"Played\", \"Plays\", \n",
    "         \"Study\", \"Studying\", \"Studied\", \"Studies\", \n",
    "         \"Jump\", \"Jumping\", \"Jumped\", \"Jumps\"]"
   ]
  },
  {
   "cell_type": "code",
   "execution_count": 3,
   "id": "4178101e-c0f6-4ded-9290-7ee85b4a2ba0",
   "metadata": {},
   "outputs": [],
   "source": [
    "Lemmatizer = WordNetLemmatizer()"
   ]
  },
  {
   "cell_type": "code",
   "execution_count": 12,
   "id": "f9a0d210-bb91-461e-87a0-0a92646fed10",
   "metadata": {},
   "outputs": [
    {
     "data": {
      "text/plain": [
       "['Run',\n",
       " 'Running',\n",
       " 'Ran',\n",
       " 'Runs',\n",
       " 'Play',\n",
       " 'Playing',\n",
       " 'Played',\n",
       " 'Plays',\n",
       " 'Study',\n",
       " 'Studying',\n",
       " 'Studied',\n",
       " 'Studies',\n",
       " 'Jump',\n",
       " 'Jumping',\n",
       " 'Jumped',\n",
       " 'Jumps']"
      ]
     },
     "execution_count": 12,
     "metadata": {},
     "output_type": "execute_result"
    }
   ],
   "source": [
    "[Lemmatizer.lemmatize(word,pos='v') for word in words] "
   ]
  },
  {
   "cell_type": "code",
   "execution_count": 13,
   "id": "8cbbd434-6576-4b21-a160-2fad015eac20",
   "metadata": {},
   "outputs": [
    {
     "name": "stdout",
     "output_type": "stream",
     "text": [
      "Run---->Run\n",
      "Running---->Running\n",
      "Ran---->Ran\n",
      "Runs---->Runs\n",
      "Play---->Play\n",
      "Playing---->Playing\n",
      "Played---->Played\n",
      "Plays---->Plays\n",
      "Study---->Study\n",
      "Studying---->Studying\n",
      "Studied---->Studied\n",
      "Studies---->Studies\n",
      "Jump---->Jump\n",
      "Jumping---->Jumping\n",
      "Jumped---->Jumped\n",
      "Jumps---->Jumps\n"
     ]
    }
   ],
   "source": [
    "for word in words:\n",
    "    print(word+\"---->\"+Lemmatizer.lemmatize(word,pos='v'))"
   ]
  },
  {
   "cell_type": "code",
   "execution_count": 15,
   "id": "ee94c011-b67d-4268-855f-613cdbc27329",
   "metadata": {},
   "outputs": [
    {
     "data": {
      "text/plain": [
       "'go'"
      ]
     },
     "execution_count": 15,
     "metadata": {},
     "output_type": "execute_result"
    }
   ],
   "source": [
    "Lemmatizer.lemmatize(\"goes\",pos='v')"
   ]
  },
  {
   "cell_type": "code",
   "execution_count": null,
   "id": "b280d194-e709-4f3e-b5f7-29638f89f843",
   "metadata": {},
   "outputs": [],
   "source": [
    "Lemmatizer.lemmatize(\"goes\",pos='v')"
   ]
  }
 ],
 "metadata": {
  "kernelspec": {
   "display_name": "Python 3 (ipykernel)",
   "language": "python",
   "name": "python3"
  },
  "language_info": {
   "codemirror_mode": {
    "name": "ipython",
    "version": 3
   },
   "file_extension": ".py",
   "mimetype": "text/x-python",
   "name": "python",
   "nbconvert_exporter": "python",
   "pygments_lexer": "ipython3",
   "version": "3.12.7"
  }
 },
 "nbformat": 4,
 "nbformat_minor": 5
}
