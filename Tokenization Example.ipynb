{
 "cells": [
  {
   "cell_type": "code",
   "execution_count": 44,
   "id": "57cca1ce-8114-479d-ae85-fefc31e7870d",
   "metadata": {},
   "outputs": [],
   "source": [
    "import nltk\n",
    "from nltk.tokenize import sent_tokenize, word_tokenize,wordpunct_tokenize,treebank"
   ]
  },
  {
   "cell_type": "code",
   "execution_count": 34,
   "id": "341d8929-981b-4239-b452-b2fd64e571e5",
   "metadata": {},
   "outputs": [],
   "source": [
    "corpus = \"\"\"Hello Good Morning. how are you. where are you \"\"\""
   ]
  },
  {
   "cell_type": "code",
   "execution_count": 35,
   "id": "d9f55a27-d8aa-48aa-9de5-ca78a9d55b91",
   "metadata": {},
   "outputs": [
    {
     "name": "stdout",
     "output_type": "stream",
     "text": [
      "Hello Good Morning. how are you. where are you \n"
     ]
    }
   ],
   "source": [
    "print(corpus)"
   ]
  },
  {
   "cell_type": "markdown",
   "id": "5d3e2fc2-865c-4caf-b681-c4590c391420",
   "metadata": {},
   "source": [
    "## tokenize"
   ]
  },
  {
   "cell_type": "code",
   "execution_count": 36,
   "id": "b456fbf7-80a5-4bfa-9f71-c255ed7768b0",
   "metadata": {},
   "outputs": [
    {
     "data": {
      "text/plain": [
       "['Hello Good Morning.', 'how are you.', 'where are you']"
      ]
     },
     "execution_count": 36,
     "metadata": {},
     "output_type": "execute_result"
    }
   ],
   "source": [
    "documents = sent_tokenize(corpus)\n",
    "documents"
   ]
  },
  {
   "cell_type": "code",
   "execution_count": 37,
   "id": "6d91c430-fd34-48f7-8618-103ecf395626",
   "metadata": {},
   "outputs": [
    {
     "name": "stdout",
     "output_type": "stream",
     "text": [
      "Hello Good Morning.\n",
      "how are you.\n",
      "where are you\n"
     ]
    }
   ],
   "source": [
    "for i in documents:\n",
    "    print(i)"
   ]
  },
  {
   "cell_type": "markdown",
   "id": "77a44de6-4259-47c8-a483-f22d1ee6b66f",
   "metadata": {},
   "source": [
    "### pargarph into words "
   ]
  },
  {
   "cell_type": "code",
   "execution_count": 38,
   "id": "2bc95f91-a78a-44b9-89f1-6519455ce1c9",
   "metadata": {},
   "outputs": [
    {
     "data": {
      "text/plain": [
       "['Hello',\n",
       " 'Good',\n",
       " 'Morning',\n",
       " '.',\n",
       " 'how',\n",
       " 'are',\n",
       " 'you',\n",
       " '.',\n",
       " 'where',\n",
       " 'are',\n",
       " 'you']"
      ]
     },
     "execution_count": 38,
     "metadata": {},
     "output_type": "execute_result"
    }
   ],
   "source": [
    "word_tokenize(corpus)"
   ]
  },
  {
   "cell_type": "markdown",
   "id": "7258b008-620f-4d66-bb61-6c358251256a",
   "metadata": {},
   "source": [
    "### sentence into words"
   ]
  },
  {
   "cell_type": "code",
   "execution_count": 39,
   "id": "057a0e1d-c216-4e12-9fae-ddf85fc1458c",
   "metadata": {},
   "outputs": [
    {
     "name": "stdout",
     "output_type": "stream",
     "text": [
      "['Hello', 'Good', 'Morning', '.']\n",
      "['how', 'are', 'you', '.']\n",
      "['where', 'are', 'you']\n"
     ]
    }
   ],
   "source": [
    "for i in documents:\n",
    "    print(word_tokenize(i))"
   ]
  },
  {
   "cell_type": "code",
   "execution_count": 42,
   "id": "462406f3-9b78-4f5d-8c22-2872a1965fcd",
   "metadata": {},
   "outputs": [
    {
     "data": {
      "text/plain": [
       "['Hello',\n",
       " 'Good',\n",
       " 'Morning',\n",
       " '.',\n",
       " 'how',\n",
       " 'are',\n",
       " 'you',\n",
       " '.',\n",
       " 'where',\n",
       " 'are',\n",
       " 'you']"
      ]
     },
     "execution_count": 42,
     "metadata": {},
     "output_type": "execute_result"
    }
   ],
   "source": [
    "wordpunct_tokenize(corpus)"
   ]
  },
  {
   "cell_type": "code",
   "execution_count": 55,
   "id": "e97b0d47-1be2-474f-aedc-191707d01943",
   "metadata": {},
   "outputs": [],
   "source": [
    "text = \"Hello, world. How's it going?\""
   ]
  },
  {
   "cell_type": "code",
   "execution_count": 52,
   "id": "5aea7023-e295-421b-b7c6-9f968707aa92",
   "metadata": {},
   "outputs": [],
   "source": [
    "c = sent_tokenize(text)"
   ]
  },
  {
   "cell_type": "code",
   "execution_count": 53,
   "id": "0fba2b81-c1e1-4871-b6f0-9f81d6f17c0e",
   "metadata": {},
   "outputs": [
    {
     "name": "stdout",
     "output_type": "stream",
     "text": [
      "Hello, world.\n",
      "How's it going?\n"
     ]
    }
   ],
   "source": [
    "for i in c:\n",
    "    print(i)"
   ]
  },
  {
   "cell_type": "code",
   "execution_count": 51,
   "id": "f7fadfdf-50d8-4f19-a84b-896be2c15127",
   "metadata": {},
   "outputs": [
    {
     "data": {
      "text/plain": [
       "['Hello', ',', 'world', '.', 'How', \"'s\", 'it', 'going', '?']"
      ]
     },
     "execution_count": 51,
     "metadata": {},
     "output_type": "execute_result"
    }
   ],
   "source": [
    "word_tokenize(text)"
   ]
  },
  {
   "cell_type": "code",
   "execution_count": 57,
   "id": "b3561620-c87a-4a9e-9e4b-40679ed12e5e",
   "metadata": {},
   "outputs": [
    {
     "data": {
      "text/plain": [
       "9"
      ]
     },
     "execution_count": 57,
     "metadata": {},
     "output_type": "execute_result"
    }
   ],
   "source": [
    "len(word_tokenize(text))"
   ]
  },
  {
   "cell_type": "code",
   "execution_count": 56,
   "id": "55ed6ff5-7a64-4d0d-9040-55823baf7220",
   "metadata": {},
   "outputs": [
    {
     "data": {
      "text/plain": [
       "['Hello', ',', 'world', '.', 'How', \"'\", 's', 'it', 'going', '?']"
      ]
     },
     "execution_count": 56,
     "metadata": {},
     "output_type": "execute_result"
    }
   ],
   "source": [
    "wordpunct_tokenize(text)"
   ]
  },
  {
   "cell_type": "code",
   "execution_count": 58,
   "id": "2098be5d-eeba-489a-854b-178b31fd8c69",
   "metadata": {},
   "outputs": [
    {
     "data": {
      "text/plain": [
       "10"
      ]
     },
     "execution_count": 58,
     "metadata": {},
     "output_type": "execute_result"
    }
   ],
   "source": [
    "len(wordpunct_tokenize(text))"
   ]
  },
  {
   "cell_type": "code",
   "execution_count": null,
   "id": "91a8d316-fd3b-4962-a007-2abfa33e8c14",
   "metadata": {},
   "outputs": [],
   "source": []
  }
 ],
 "metadata": {
  "kernelspec": {
   "display_name": "Python 3 (ipykernel)",
   "language": "python",
   "name": "python3"
  },
  "language_info": {
   "codemirror_mode": {
    "name": "ipython",
    "version": 3
   },
   "file_extension": ".py",
   "mimetype": "text/x-python",
   "name": "python",
   "nbconvert_exporter": "python",
   "pygments_lexer": "ipython3",
   "version": "3.12.7"
  }
 },
 "nbformat": 4,
 "nbformat_minor": 5
}
