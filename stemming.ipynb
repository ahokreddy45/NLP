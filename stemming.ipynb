{
 "cells": [
  {
   "cell_type": "code",
   "execution_count": 7,
   "id": "36471a94-cc34-4749-b7b1-57d1fa97dd7b",
   "metadata": {},
   "outputs": [],
   "source": [
    "from nltk.stem import PorterStemmer,RegexpStemmer"
   ]
  },
  {
   "cell_type": "code",
   "execution_count": 2,
   "id": "9fe5aaa0-02ec-427d-a7c0-f3efeb9921bb",
   "metadata": {},
   "outputs": [],
   "source": [
    "words = [\"Run\", \"Running\", \"Ran\", \"Runs\", \n",
    "         \"Play\", \"Playing\", \"Played\", \"Plays\", \n",
    "         \"Care\", \"Caring\", \"Cared\", \"Cares\", \n",
    "         \"Study\", \"Studying\", \"Studied\", \"Studies\"]"
   ]
  },
  {
   "cell_type": "code",
   "execution_count": 5,
   "id": "b817bbe6-2547-40cb-afd0-cff9846cc8d4",
   "metadata": {},
   "outputs": [
    {
     "name": "stdout",
     "output_type": "stream",
     "text": [
      "Run --> run\n",
      "Running --> run\n",
      "Ran --> ran\n",
      "Runs --> run\n",
      "Play --> play\n",
      "Playing --> play\n",
      "Played --> play\n",
      "Plays --> play\n",
      "Care --> care\n",
      "Caring --> care\n",
      "Cared --> care\n",
      "Cares --> care\n",
      "Study --> studi\n",
      "Studying --> studi\n",
      "Studied --> studi\n",
      "Studies --> studi\n"
     ]
    }
   ],
   "source": [
    "stemming = PorterStemmer()\n",
    "for word in words:\n",
    "    print(word+\" --> \"+stemming.stem(word))"
   ]
  },
  {
   "cell_type": "code",
   "execution_count": 10,
   "id": "816e0b52-ed59-45f3-8fe0-fd61ce9b12b5",
   "metadata": {},
   "outputs": [
    {
     "name": "stdout",
     "output_type": "stream",
     "text": [
      "Run --> Run\n",
      "Running --> Runn\n",
      "Ran --> Ran\n",
      "Runs --> Run\n",
      "Play --> Play\n",
      "Playing --> Play\n",
      "Played --> Played\n",
      "Plays --> Play\n",
      "Care --> Car\n",
      "Caring --> Car\n",
      "Cared --> Cared\n",
      "Cares --> Care\n",
      "Study --> Study\n",
      "Studying --> Study\n",
      "Studied --> Studied\n",
      "Studies --> Studie\n"
     ]
    }
   ],
   "source": [
    "rstemming = RegexpStemmer('ing$|s$|e$|able$', min=4)\n",
    "for word in words:\n",
    "    print(word+\" --> \"+rstemming.stem(word))"
   ]
  },
  {
   "cell_type": "code",
   "execution_count": null,
   "id": "5237598c-a803-4efd-8817-dc48300870ac",
   "metadata": {},
   "outputs": [],
   "source": []
  }
 ],
 "metadata": {
  "kernelspec": {
   "display_name": "Python 3 (ipykernel)",
   "language": "python",
   "name": "python3"
  },
  "language_info": {
   "codemirror_mode": {
    "name": "ipython",
    "version": 3
   },
   "file_extension": ".py",
   "mimetype": "text/x-python",
   "name": "python",
   "nbconvert_exporter": "python",
   "pygments_lexer": "ipython3",
   "version": "3.12.7"
  }
 },
 "nbformat": 4,
 "nbformat_minor": 5
}
